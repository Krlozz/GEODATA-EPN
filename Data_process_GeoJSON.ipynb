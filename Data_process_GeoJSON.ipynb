{
 "cells": [
  {
   "cell_type": "markdown",
   "id": "00c41b13-85e3-4e8a-aaa0-6c58a1af4a39",
   "metadata": {},
   "source": [
    "# Data process GeoJSON"
   ]
  },
  {
   "cell_type": "markdown",
   "id": "d440343e-1c47-4f41-8b96-00f41e5cdc3d",
   "metadata": {},
   "source": [
    "This code reads geospatial and tabular data, merges them based on a common column, calculates column sums, and rescales selected columns. It generates a GeoJSON file with processed geographic data for Ecuadorian provinces, improving data integration and preparing it for further analysis or visualization."
   ]
  },
  {
   "cell_type": "code",
   "execution_count": 71,
   "id": "e9513516-0280-4ccc-81ce-d03260fcd3f2",
   "metadata": {},
   "outputs": [],
   "source": [
    "import geopandas as gpd\n",
    "import pandas as pd"
   ]
  },
  {
   "cell_type": "code",
   "execution_count": 108,
   "id": "10a98cc2-2cbf-4c1c-8af3-cc4719bbac81",
   "metadata": {},
   "outputs": [],
   "source": [
    "# Read a GeoPackage file containing Ecuadorian provinces' geometry data into a GeoDataFrame\n",
    "df = gpd.read_file(\"ecuador_provincias.gpkg\")\n",
    "\n",
    "# Read a CSV file (\"resultadosF.csv\") into a Pandas DataFrame\n",
    "dfdata = pd.read_csv(\"resultadosF.csv\")"
   ]
  },
  {
   "cell_type": "code",
   "execution_count": 111,
   "id": "ae151590-2b4e-480e-a049-15729132e009",
   "metadata": {},
   "outputs": [],
   "source": [
    "# Rename the 'PROVINCIA' column in the 'dfdata' DataFrame to 'DPA_DESPRO'\n",
    "dfdata = dfdata.rename(columns={'PROVINCIA': 'DPA_DESPRO'})\n",
    "\n",
    "# Merge the 'df' GeoDataFrame with the 'dfdata' DataFrame on the 'DPA_DESPRO' column, using an inner join\n",
    "result = pd.merge(df, dfdata, on='DPA_DESPRO', how='inner')"
   ]
  },
  {
   "cell_type": "code",
   "execution_count": 129,
   "id": "66e49bba-f97d-450d-8a5a-be1ef752a745",
   "metadata": {},
   "outputs": [],
   "source": [
    "# Calculate the sum of values from multiple columns and assign the result to a new column named 'despues'\n",
    "result['despues'] = result[['2019_2020INICIO', '2020_2021INICIO',\n",
    "       '2021_2022INICIO', '2022_2023INICIO']].sum(axis=1)"
   ]
  },
  {
   "cell_type": "code",
   "execution_count": null,
   "id": "a23edf49-cd72-4f18-964b-160242b538b9",
   "metadata": {},
   "outputs": [],
   "source": [
    "# Select specific columns from the 'result' DataFrame and create a new DataFrame with only these columns\n",
    "result = result[['OBJECTID', 'DPA_PROVIN', 'DPA_DESPRO', 'DPA_VALOR', 'DPA_ANIO',\n",
    "                'REI_CODIGO', 'REN_CODIGO', 'PEE_CODIGO', 'COD_PROVINCIA', 'antes', 'despues', 'Shape_Leng', 'Shape_Area',\n",
    "                'geometry']]"
   ]
  },
  {
   "cell_type": "code",
   "execution_count": 138,
   "id": "724d2c9c-e5e3-4cdc-8863-e6a14b6835ab",
   "metadata": {},
   "outputs": [],
   "source": [
    "# Divide the values in the 'antes' column by 10 and update the 'antes' column with the result\n",
    "result['antes'] = result['antes'] / 10\n",
    "\n",
    "# Divide the values in the 'despues' column by 4 and update the 'despues' column with the result\n",
    "result['despues'] = result['despues'] / 4"
   ]
  },
  {
   "cell_type": "markdown",
   "id": "17292d3f-4ea3-4386-a729-68f8cea00399",
   "metadata": {},
   "source": [
    "# Generate GeoJSON"
   ]
  },
  {
   "cell_type": "code",
   "execution_count": 137,
   "id": "3a66e56a-5ba9-49b2-9f05-cd4a4ca10a48",
   "metadata": {},
   "outputs": [],
   "source": [
    "# Save the 'result' object to a GeoJSON file named \"capaNueva.json\"\n",
    "result.to_file(\"capaNueva.json\", driver=\"GeoJSON\")"
   ]
  }
 ],
 "metadata": {
  "kernelspec": {
   "display_name": "Python 3 (ipykernel)",
   "language": "python",
   "name": "python3"
  },
  "language_info": {
   "codemirror_mode": {
    "name": "ipython",
    "version": 3
   },
   "file_extension": ".py",
   "mimetype": "text/x-python",
   "name": "python",
   "nbconvert_exporter": "python",
   "pygments_lexer": "ipython3",
   "version": "3.9.16"
  }
 },
 "nbformat": 4,
 "nbformat_minor": 5
}
